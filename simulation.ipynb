{
 "metadata": {
  "language_info": {
   "codemirror_mode": {
    "name": "ipython",
    "version": 3
   },
   "file_extension": ".py",
   "mimetype": "text/x-python",
   "name": "python",
   "nbconvert_exporter": "python",
   "pygments_lexer": "ipython3",
   "version": "3.8.5"
  },
  "orig_nbformat": 4,
  "kernelspec": {
   "name": "python3",
   "display_name": "Python 3.8.5 64-bit ('.env': venv)"
  },
  "interpreter": {
   "hash": "060b55d56c63d2656b8d147c800ac92e6ac147f5d383644aa15a586b37b5c7ae"
  }
 },
 "nbformat": 4,
 "nbformat_minor": 2,
 "cells": [
  {
   "cell_type": "code",
   "execution_count": 1,
   "metadata": {},
   "outputs": [
    {
     "output_type": "display_data",
     "data": {
      "text/plain": "VBox(children=(Text(value=''), Button(description='Visual', style=ButtonStyle()), Text(value=''), Button(descr…",
      "application/vnd.jupyter.widget-view+json": {
       "version_major": 2,
       "version_minor": 0,
       "model_id": "f394fc560f4f4bf8bc3703768a48783b"
      }
     },
     "metadata": {}
    }
   ],
   "source": [
    "import ipywidgets as widgets\n",
    "from IPython.display import display, Markdown, clear_output\n",
    "from state import State\n",
    "\n",
    "app_state = State()\n",
    "\n",
    "\n",
    "text_visual = widgets.Text(value='', description='')\n",
    "button_visual = widgets.Button(value='', description='Visual')\n",
    "\n",
    "text_spoken = widgets.Text(value='', description='')\n",
    "button_spoken = widgets.Button(description='Spoken')\n",
    "\n",
    "text_target = widgets.Text(value='', description='')\n",
    "button_target = widgets.Button(description='Target word')\n",
    "\n",
    "button_time_step = widgets.Button(description='Time step +1')\n",
    "output = widgets.Output()\n",
    "\n",
    "def on_visual_attention(_):\n",
    "    app_state.context.on_visual_attention_3(text_visual.value)\n",
    "    print_state()\n",
    "\n",
    "def on_spoken_attention(_):\n",
    "    app_state.context.on_spoken_attention(text_spoken.value)\n",
    "    print_state()\n",
    "\n",
    "def on_target_word(_):\n",
    "    app_state.on_target_word_spoken(text_target.value)\n",
    "    print_state()\n",
    "\n",
    "def on_time_step(_):\n",
    "    app_state.on_time_step_increment()\n",
    "    print_state()\n",
    "\n",
    "def print_state():\n",
    "    with output:\n",
    "        clear_output()\n",
    "        app_state.print_cards()\n",
    "\n",
    "button_visual.on_click(on_visual_attention)\n",
    "button_spoken.on_click(on_spoken_attention)\n",
    "button_target.on_click(on_target_word)\n",
    "button_time_step.on_click(on_time_step)\n",
    "\n",
    "widgets.VBox([text_visual, button_visual,\n",
    "        text_spoken, button_spoken,\n",
    "        text_target, button_target,\n",
    "        button_time_step,\n",
    "        output])\n"
   ]
  },
  {
   "cell_type": "code",
   "execution_count": 2,
   "metadata": {},
   "outputs": [],
   "source": [
    "print_state()"
   ]
  }
 ]
}